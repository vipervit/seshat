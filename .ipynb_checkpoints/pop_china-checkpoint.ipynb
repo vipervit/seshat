{
 "cells": [
  {
   "cell_type": "code",
   "execution_count": 345,
   "metadata": {},
   "outputs": [],
   "source": [
    "import pandas as pd\n",
    "import numpy as np\n",
    "import seaborn as sns\n",
    "import matplotlib.pyplot as plt\n",
    "%matplotlib inline\n",
    "from sklearn.linear_model import RidgeCV, LassoCV, ElasticNetCV, LinearRegression\n",
    "from sklearn.model_selection import train_test_split\n",
    "from sklearn.preprocessing import PolynomialFeatures\n",
    "from sklearn.pipeline import make_pipeline"
   ]
  },
  {
   "cell_type": "markdown",
   "metadata": {},
   "source": [
    "### Data Preparation"
   ]
  },
  {
   "cell_type": "code",
   "execution_count": 346,
   "metadata": {},
   "outputs": [
    {
     "data": {
      "text/html": [
       "<div>\n",
       "<style scoped>\n",
       "    .dataframe tbody tr th:only-of-type {\n",
       "        vertical-align: middle;\n",
       "    }\n",
       "\n",
       "    .dataframe tbody tr th {\n",
       "        vertical-align: top;\n",
       "    }\n",
       "\n",
       "    .dataframe thead th {\n",
       "        text-align: right;\n",
       "    }\n",
       "</style>\n",
       "<table border=\"1\" class=\"dataframe\">\n",
       "  <thead>\n",
       "    <tr style=\"text-align: right;\">\n",
       "      <th></th>\n",
       "      <th>NGA</th>\n",
       "      <th>Pop_Min</th>\n",
       "      <th>Pop_Max</th>\n",
       "      <th>From_Year</th>\n",
       "      <th>To_Year</th>\n",
       "    </tr>\n",
       "    <tr>\n",
       "      <th>Polity</th>\n",
       "      <th></th>\n",
       "      <th></th>\n",
       "      <th></th>\n",
       "      <th></th>\n",
       "      <th></th>\n",
       "    </tr>\n",
       "  </thead>\n",
       "  <tbody>\n",
       "    <tr>\n",
       "      <th>MxAztec</th>\n",
       "      <td>Basin of Mexico</td>\n",
       "      <td>3000000.0</td>\n",
       "      <td>4000000</td>\n",
       "      <td>0</td>\n",
       "      <td>0</td>\n",
       "    </tr>\n",
       "    <tr>\n",
       "      <th>MxPostM</th>\n",
       "      <td>Basin of Mexico</td>\n",
       "      <td>700000.0</td>\n",
       "      <td>800000</td>\n",
       "      <td>0</td>\n",
       "      <td>0</td>\n",
       "    </tr>\n",
       "    <tr>\n",
       "      <th>MxToltc</th>\n",
       "      <td>Basin of Mexico</td>\n",
       "      <td>150000.0</td>\n",
       "      <td>200000</td>\n",
       "      <td>0</td>\n",
       "      <td>0</td>\n",
       "    </tr>\n",
       "    <tr>\n",
       "      <th>USKameh</th>\n",
       "      <td>Big Island Hawaii</td>\n",
       "      <td>60000.0</td>\n",
       "      <td>180000</td>\n",
       "      <td>1800</td>\n",
       "      <td>0</td>\n",
       "    </tr>\n",
       "    <tr>\n",
       "      <th>Hawaii2</th>\n",
       "      <td>Big Island Hawaii</td>\n",
       "      <td>3500.0</td>\n",
       "      <td>7000</td>\n",
       "      <td>1200</td>\n",
       "      <td>0</td>\n",
       "    </tr>\n",
       "    <tr>\n",
       "      <th>...</th>\n",
       "      <td>...</td>\n",
       "      <td>...</td>\n",
       "      <td>...</td>\n",
       "      <td>...</td>\n",
       "      <td>...</td>\n",
       "    </tr>\n",
       "    <tr>\n",
       "      <th>MxAlb3B</th>\n",
       "      <td>Valley of Oaxaca</td>\n",
       "      <td>7245.0</td>\n",
       "      <td>9660</td>\n",
       "      <td>0</td>\n",
       "      <td>0</td>\n",
       "    </tr>\n",
       "    <tr>\n",
       "      <th>MxAlb5*</th>\n",
       "      <td>Valley of Oaxaca</td>\n",
       "      <td>8127.0</td>\n",
       "      <td>10836</td>\n",
       "      <td>0</td>\n",
       "      <td>0</td>\n",
       "    </tr>\n",
       "    <tr>\n",
       "      <th>YeHmyr1</th>\n",
       "      <td>Yemeni Coastal Plain</td>\n",
       "      <td>300000.0</td>\n",
       "      <td>500000</td>\n",
       "      <td>0</td>\n",
       "      <td>0</td>\n",
       "    </tr>\n",
       "    <tr>\n",
       "      <th>EtAksm1</th>\n",
       "      <td>Yemeni Coastal Plain</td>\n",
       "      <td>500000.0</td>\n",
       "      <td>600000</td>\n",
       "      <td>0</td>\n",
       "      <td>0</td>\n",
       "    </tr>\n",
       "    <tr>\n",
       "      <th>YeHmyr2</th>\n",
       "      <td>Yemeni Coastal Plain</td>\n",
       "      <td>300000.0</td>\n",
       "      <td>500000</td>\n",
       "      <td>0</td>\n",
       "      <td>0</td>\n",
       "    </tr>\n",
       "  </tbody>\n",
       "</table>\n",
       "<p>348 rows × 5 columns</p>\n",
       "</div>"
      ],
      "text/plain": [
       "                          NGA    Pop_Min  Pop_Max From_Year To_Year\n",
       "Polity                                                             \n",
       "MxAztec       Basin of Mexico  3000000.0  4000000         0       0\n",
       "MxPostM       Basin of Mexico   700000.0   800000         0       0\n",
       "MxToltc       Basin of Mexico   150000.0   200000         0       0\n",
       "USKameh     Big Island Hawaii    60000.0   180000      1800       0\n",
       "Hawaii2     Big Island Hawaii     3500.0     7000      1200       0\n",
       "...                       ...        ...      ...       ...     ...\n",
       "MxAlb3B      Valley of Oaxaca     7245.0     9660         0       0\n",
       "MxAlb5*      Valley of Oaxaca     8127.0    10836         0       0\n",
       "YeHmyr1  Yemeni Coastal Plain   300000.0   500000         0       0\n",
       "EtAksm1  Yemeni Coastal Plain   500000.0   600000         0       0\n",
       "YeHmyr2  Yemeni Coastal Plain   300000.0   500000         0       0\n",
       "\n",
       "[348 rows x 5 columns]"
      ]
     },
     "execution_count": 346,
     "metadata": {},
     "output_type": "execute_result"
    }
   ],
   "source": [
    "df_pops = pd.read_pickle('./populations.pkl')\n",
    "df_pops"
   ]
  },
  {
   "cell_type": "markdown",
   "metadata": {},
   "source": [
    "Max values for populaiton estimates and 'to_year' are removed for simplicity and because most of them are not specified anyway."
   ]
  },
  {
   "cell_type": "code",
   "execution_count": 347,
   "metadata": {},
   "outputs": [
    {
     "data": {
      "text/html": [
       "<div>\n",
       "<style scoped>\n",
       "    .dataframe tbody tr th:only-of-type {\n",
       "        vertical-align: middle;\n",
       "    }\n",
       "\n",
       "    .dataframe tbody tr th {\n",
       "        vertical-align: top;\n",
       "    }\n",
       "\n",
       "    .dataframe thead th {\n",
       "        text-align: right;\n",
       "    }\n",
       "</style>\n",
       "<table border=\"1\" class=\"dataframe\">\n",
       "  <thead>\n",
       "    <tr style=\"text-align: right;\">\n",
       "      <th></th>\n",
       "      <th>Population</th>\n",
       "      <th>Year</th>\n",
       "    </tr>\n",
       "    <tr>\n",
       "      <th>Polity</th>\n",
       "      <th></th>\n",
       "      <th></th>\n",
       "    </tr>\n",
       "  </thead>\n",
       "  <tbody>\n",
       "    <tr>\n",
       "      <th>CnWZhou</th>\n",
       "      <td>9000000.0</td>\n",
       "      <td>-1045</td>\n",
       "    </tr>\n",
       "    <tr>\n",
       "      <th>CnWZhou</th>\n",
       "      <td>13500000.0</td>\n",
       "      <td>-956</td>\n",
       "    </tr>\n",
       "    <tr>\n",
       "      <th>CnErJin</th>\n",
       "      <td>16163863.0</td>\n",
       "      <td>-300</td>\n",
       "    </tr>\n",
       "    <tr>\n",
       "      <th>CnWHan*</th>\n",
       "      <td>45000000.0</td>\n",
       "      <td>-200</td>\n",
       "    </tr>\n",
       "    <tr>\n",
       "      <th>CnErlig</th>\n",
       "      <td>2000000.0</td>\n",
       "      <td>0</td>\n",
       "    </tr>\n",
       "    <tr>\n",
       "      <th>CnErlit</th>\n",
       "      <td>54000.0</td>\n",
       "      <td>0</td>\n",
       "    </tr>\n",
       "    <tr>\n",
       "      <th>CnNSong</th>\n",
       "      <td>60000000.0</td>\n",
       "      <td>0</td>\n",
       "    </tr>\n",
       "    <tr>\n",
       "      <th>CnYngsh</th>\n",
       "      <td>10000.0</td>\n",
       "      <td>0</td>\n",
       "    </tr>\n",
       "    <tr>\n",
       "      <th>CnShang</th>\n",
       "      <td>5000000.0</td>\n",
       "      <td>0</td>\n",
       "    </tr>\n",
       "    <tr>\n",
       "      <th>CnWHan*</th>\n",
       "      <td>57600000.0</td>\n",
       "      <td>1</td>\n",
       "    </tr>\n",
       "    <tr>\n",
       "      <th>CnEHan*</th>\n",
       "      <td>49440385.0</td>\n",
       "      <td>57</td>\n",
       "    </tr>\n",
       "    <tr>\n",
       "      <th>CnEHan*</th>\n",
       "      <td>49440385.0</td>\n",
       "      <td>75</td>\n",
       "    </tr>\n",
       "    <tr>\n",
       "      <th>CnEHan*</th>\n",
       "      <td>49440385.0</td>\n",
       "      <td>88</td>\n",
       "    </tr>\n",
       "    <tr>\n",
       "      <th>CnEHan*</th>\n",
       "      <td>49440385.0</td>\n",
       "      <td>105</td>\n",
       "    </tr>\n",
       "    <tr>\n",
       "      <th>CnEHan*</th>\n",
       "      <td>49440385.0</td>\n",
       "      <td>125</td>\n",
       "    </tr>\n",
       "    <tr>\n",
       "      <th>CnEHan*</th>\n",
       "      <td>49440385.0</td>\n",
       "      <td>126</td>\n",
       "    </tr>\n",
       "    <tr>\n",
       "      <th>CnEHan*</th>\n",
       "      <td>49440385.0</td>\n",
       "      <td>142</td>\n",
       "    </tr>\n",
       "    <tr>\n",
       "      <th>CnEHan*</th>\n",
       "      <td>49440385.0</td>\n",
       "      <td>146</td>\n",
       "    </tr>\n",
       "    <tr>\n",
       "      <th>CnEHan*</th>\n",
       "      <td>49440385.0</td>\n",
       "      <td>156</td>\n",
       "    </tr>\n",
       "    <tr>\n",
       "      <th>CnEHan*</th>\n",
       "      <td>49440385.0</td>\n",
       "      <td>157</td>\n",
       "    </tr>\n",
       "    <tr>\n",
       "      <th>CnNWei*</th>\n",
       "      <td>32000000.0</td>\n",
       "      <td>500</td>\n",
       "    </tr>\n",
       "    <tr>\n",
       "      <th>CnSui**</th>\n",
       "      <td>46000000.0</td>\n",
       "      <td>600</td>\n",
       "    </tr>\n",
       "    <tr>\n",
       "      <th>CnTangE</th>\n",
       "      <td>37000000.0</td>\n",
       "      <td>700</td>\n",
       "    </tr>\n",
       "    <tr>\n",
       "      <th>CnTangE</th>\n",
       "      <td>37000000.0</td>\n",
       "      <td>705</td>\n",
       "    </tr>\n",
       "    <tr>\n",
       "      <th>CnTangE</th>\n",
       "      <td>41400000.0</td>\n",
       "      <td>726</td>\n",
       "    </tr>\n",
       "    <tr>\n",
       "      <th>CnTangE</th>\n",
       "      <td>48000000.0</td>\n",
       "      <td>740</td>\n",
       "    </tr>\n",
       "    <tr>\n",
       "      <th>CnTangE</th>\n",
       "      <td>52800000.0</td>\n",
       "      <td>754</td>\n",
       "    </tr>\n",
       "    <tr>\n",
       "      <th>CnTangL</th>\n",
       "      <td>40000000.0</td>\n",
       "      <td>766</td>\n",
       "    </tr>\n",
       "    <tr>\n",
       "      <th>CnTangL</th>\n",
       "      <td>60000000.0</td>\n",
       "      <td>900</td>\n",
       "    </tr>\n",
       "    <tr>\n",
       "      <th>CnLrJin</th>\n",
       "      <td>45000000.0</td>\n",
       "      <td>1200</td>\n",
       "    </tr>\n",
       "    <tr>\n",
       "      <th>CnYuan*</th>\n",
       "      <td>60491000.0</td>\n",
       "      <td>1300</td>\n",
       "    </tr>\n",
       "    <tr>\n",
       "      <th>CnMing*</th>\n",
       "      <td>60545800.0</td>\n",
       "      <td>1400</td>\n",
       "    </tr>\n",
       "    <tr>\n",
       "      <th>CnMing*</th>\n",
       "      <td>50908700.0</td>\n",
       "      <td>1500</td>\n",
       "    </tr>\n",
       "    <tr>\n",
       "      <th>CnMing*</th>\n",
       "      <td>90000000.0</td>\n",
       "      <td>1600</td>\n",
       "    </tr>\n",
       "    <tr>\n",
       "      <th>CnQingE</th>\n",
       "      <td>100000000.0</td>\n",
       "      <td>1700</td>\n",
       "    </tr>\n",
       "    <tr>\n",
       "      <th>CnQingL</th>\n",
       "      <td>295000000.0</td>\n",
       "      <td>1800</td>\n",
       "    </tr>\n",
       "    <tr>\n",
       "      <th>CnQingL</th>\n",
       "      <td>334000000.0</td>\n",
       "      <td>1900</td>\n",
       "    </tr>\n",
       "  </tbody>\n",
       "</table>\n",
       "</div>"
      ],
      "text/plain": [
       "          Population   Year\n",
       "Polity                     \n",
       "CnWZhou    9000000.0  -1045\n",
       "CnWZhou   13500000.0   -956\n",
       "CnErJin   16163863.0   -300\n",
       "CnWHan*   45000000.0   -200\n",
       "CnErlig    2000000.0      0\n",
       "CnErlit      54000.0      0\n",
       "CnNSong   60000000.0      0\n",
       "CnYngsh      10000.0      0\n",
       "CnShang    5000000.0      0\n",
       "CnWHan*   57600000.0      1\n",
       "CnEHan*   49440385.0     57\n",
       "CnEHan*   49440385.0     75\n",
       "CnEHan*   49440385.0     88\n",
       "CnEHan*   49440385.0    105\n",
       "CnEHan*   49440385.0    125\n",
       "CnEHan*   49440385.0    126\n",
       "CnEHan*   49440385.0    142\n",
       "CnEHan*   49440385.0    146\n",
       "CnEHan*   49440385.0    156\n",
       "CnEHan*   49440385.0    157\n",
       "CnNWei*   32000000.0    500\n",
       "CnSui**   46000000.0    600\n",
       "CnTangE   37000000.0    700\n",
       "CnTangE   37000000.0    705\n",
       "CnTangE   41400000.0    726\n",
       "CnTangE   48000000.0    740\n",
       "CnTangE   52800000.0    754\n",
       "CnTangL   40000000.0    766\n",
       "CnTangL   60000000.0    900\n",
       "CnLrJin   45000000.0   1200\n",
       "CnYuan*   60491000.0   1300\n",
       "CnMing*   60545800.0   1400\n",
       "CnMing*   50908700.0   1500\n",
       "CnMing*   90000000.0   1600\n",
       "CnQingE  100000000.0   1700\n",
       "CnQingL  295000000.0   1800\n",
       "CnQingL  334000000.0   1900"
      ]
     },
     "execution_count": 347,
     "metadata": {},
     "output_type": "execute_result"
    }
   ],
   "source": [
    "df_china = df_pops[df_pops['NGA']=='Middle Yellow River Valley'].sort_values('From_Year')\n",
    "df_china.drop(['To_Year', 'Pop_Max', 'NGA'], axis=1, inplace=True)\n",
    "df_china.rename({'Pop_Min': 'Population', 'From_Year': 'Year'}, axis=1, inplace=True)\n",
    "df_china"
   ]
  },
  {
   "cell_type": "code",
   "execution_count": 348,
   "metadata": {},
   "outputs": [
    {
     "data": {
      "text/plain": [
       "<AxesSubplot:title={'center':'Population of Middle Yellow River Valley Through History'}, xlabel='Year', ylabel='Population'>"
      ]
     },
     "execution_count": 348,
     "metadata": {},
     "output_type": "execute_result"
    },
    {
     "data": {
      "image/png": "[encoded data removed]",
      "text/plain": [
       "<Figure size 720x576 with 1 Axes>"
      ]
     },
     "metadata": {
      "needs_background": "light"
     },
     "output_type": "display_data"
    }
   ],
   "source": [
    "plt.figure(figsize=(10, 8))\n",
    "plt.title('Population of Middle Yellow River Valley Through History')\n",
    "sns.lineplot(data=df_china, x='Year', y='Population')"
   ]
  },
  {
   "cell_type": "code",
   "execution_count": 349,
   "metadata": {},
   "outputs": [
    {
     "data": {
      "text/plain": [
       "<AxesSubplot:ylabel='Frequency'>"
      ]
     },
     "execution_count": 349,
     "metadata": {},
     "output_type": "execute_result"
    },
    {
     "data": {
      "image/png": "[encoded data removed]",
      "text/plain": [
       "<Figure size 432x288 with 1 Axes>"
      ]
     },
     "metadata": {
      "needs_background": "light"
     },
     "output_type": "display_data"
    }
   ],
   "source": [
    "df_china.plot.hist(x='Year')"
   ]
  },
  {
   "cell_type": "code",
   "execution_count": 350,
   "metadata": {},
   "outputs": [
    {
     "data": {
      "text/plain": [
       "<AxesSubplot:ylabel='Density'>"
      ]
     },
     "execution_count": 350,
     "metadata": {},
     "output_type": "execute_result"
    },
    {
     "data": {
      "image/png": "[encoded data removed]",
      "text/plain": [
       "<Figure size 432x288 with 1 Axes>"
      ]
     },
     "metadata": {
      "needs_background": "light"
     },
     "output_type": "display_data"
    }
   ],
   "source": [
    "df_china.plot.kde(x='Year')"
   ]
  },
  {
   "cell_type": "code",
   "execution_count": 351,
   "metadata": {},
   "outputs": [],
   "source": [
    "X=df_china[['Year']]\n",
    "y=df_china['Population']"
   ]
  },
  {
   "cell_type": "markdown",
   "metadata": {},
   "source": [
    "### Modelling"
   ]
  },
  {
   "cell_type": "code",
   "execution_count": 352,
   "metadata": {},
   "outputs": [],
   "source": [
    "X_train, X_test, y_train, y_test = train_test_split(X, y, test_size=0.2, random_state=42)"
   ]
  },
  {
   "cell_type": "code",
   "execution_count": 353,
   "metadata": {},
   "outputs": [],
   "source": [
    "regr=ElasticNetCV(cv=5)\n",
    "yhat = regr.fit(X, y).predict(X)"
   ]
  },
  {
   "cell_type": "code",
   "execution_count": 354,
   "metadata": {},
   "outputs": [
    {
     "data": {
      "image/png": "[encoded data removed]",
      "text/plain": [
       "<Figure size 432x288 with 1 Axes>"
      ]
     },
     "metadata": {
      "needs_background": "light"
     },
     "output_type": "display_data"
    }
   ],
   "source": [
    "df_plot=pd.DataFrame(yhat, index=X, columns=['Population']).plot()"
   ]
  },
  {
   "cell_type": "code",
   "execution_count": 355,
   "metadata": {},
   "outputs": [],
   "source": [
    "pipe=make_pipeline(PolynomialFeatures(degree=8), LinearRegression())"
   ]
  },
  {
   "cell_type": "code",
   "execution_count": 356,
   "metadata": {},
   "outputs": [],
   "source": [
    "yhat=pipe.fit(X_train, y_train).predict(X)"
   ]
  },
  {
   "cell_type": "code",
   "execution_count": 377,
   "metadata": {},
   "outputs": [
    {
     "data": {
      "text/plain": [
       "<AxesSubplot:xlabel='Year'>"
      ]
     },
     "execution_count": 377,
     "metadata": {},
     "output_type": "execute_result"
    },
    {
     "data": {
      "image/png": "[encoded data removed]",
      "text/plain": [
       "<Figure size 432x288 with 1 Axes>"
      ]
     },
     "metadata": {
      "needs_background": "light"
     },
     "output_type": "display_data"
    }
   ],
   "source": [
    "pd.DataFrame({'Predicted': yhat, 'Actual': y, 'Year': X['Year']}).plot(x='Year')"
   ]
  },
  {
   "cell_type": "code",
   "execution_count": null,
   "metadata": {},
   "outputs": [],
   "source": []
  }
 ],
 "metadata": {
  "kernelspec": {
   "display_name": "Python 3",
   "language": "python",
   "name": "python3"
  },
  "language_info": {
   "codemirror_mode": {
    "name": "ipython",
    "version": 3
   },
   "file_extension": ".py",
   "mimetype": "text/x-python",
   "name": "python",
   "nbconvert_exporter": "python",
   "pygments_lexer": "ipython3",
   "version": "3.8.5"
  }
 },
 "nbformat": 4,
 "nbformat_minor": 4
}
